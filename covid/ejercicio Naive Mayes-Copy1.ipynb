{
 "cells": [
  {
   "cell_type": "code",
   "execution_count": 94,
   "id": "187f4656",
   "metadata": {},
   "outputs": [],
   "source": [
    "import pandas as pd"
   ]
  },
  {
   "cell_type": "code",
   "execution_count": 95,
   "id": "35660479",
   "metadata": {},
   "outputs": [],
   "source": [
    "from sklearn.tree import DecisionTreeClassifier\n",
    "from sklearn.model_selection import train_test_split\n"
   ]
  },
  {
   "cell_type": "code",
   "execution_count": null,
   "id": "e30ae19a",
   "metadata": {},
   "outputs": [],
   "source": [
    "# ejercicio 1 Arbol de desicion y ejercicio 3 # ejercicio  3 Naive Bayes"
   ]
  },
  {
   "cell_type": "code",
   "execution_count": 96,
   "id": "c40a141a",
   "metadata": {},
   "outputs": [],
   "source": [
    "# carga de base de datos covid"
   ]
  },
  {
   "cell_type": "code",
   "execution_count": 97,
   "id": "fadb8116",
   "metadata": {},
   "outputs": [],
   "source": [
    "df = pd.read_csv(\"covid.csv\")"
   ]
  },
  {
   "cell_type": "code",
   "execution_count": 98,
   "id": "4c0d5551",
   "metadata": {},
   "outputs": [],
   "source": [
    "# eliminar filas con valores faltantes "
   ]
  },
  {
   "cell_type": "code",
   "execution_count": 99,
   "id": "1014e2c9",
   "metadata": {},
   "outputs": [],
   "source": [
    "df.dropna(inplace=True)"
   ]
  },
  {
   "cell_type": "code",
   "execution_count": 100,
   "id": "9b2e1ad8",
   "metadata": {},
   "outputs": [],
   "source": [
    "# seleccionar columnas de caracteristicas y la columna de etiquetas"
   ]
  },
  {
   "cell_type": "code",
   "execution_count": 101,
   "id": "18006dfe",
   "metadata": {},
   "outputs": [],
   "source": [
    "x = df.iloc[:,:-1]\n",
    "y = df.iloc[:,-1]"
   ]
  },
  {
   "cell_type": "code",
   "execution_count": 102,
   "id": "7f2c065a",
   "metadata": {},
   "outputs": [],
   "source": [
    "# convertir variables categoricas en variables numericas"
   ]
  },
  {
   "cell_type": "code",
   "execution_count": 103,
   "id": "9e96d257",
   "metadata": {},
   "outputs": [],
   "source": [
    "x = pd.get_dummies(x)"
   ]
  },
  {
   "cell_type": "code",
   "execution_count": 104,
   "id": "6f6661ce",
   "metadata": {},
   "outputs": [],
   "source": [
    "# Dividir el conjunto de datos en conjuntos de entrenamientos y prueba"
   ]
  },
  {
   "cell_type": "code",
   "execution_count": 105,
   "id": "3a0d6d70",
   "metadata": {},
   "outputs": [],
   "source": [
    "x_train,x_test,y_train,y_test = train_test_split(x,y,test_size=0.2, random_state=42)"
   ]
  },
  {
   "cell_type": "code",
   "execution_count": 106,
   "id": "7fd806e8",
   "metadata": {},
   "outputs": [],
   "source": [
    "# crear modelo de arbol de decision y entrenarlo con el conjunto de datos de entrenamiento"
   ]
  },
  {
   "cell_type": "code",
   "execution_count": 107,
   "id": "41c78586",
   "metadata": {},
   "outputs": [
    {
     "data": {
      "text/plain": [
       "DecisionTreeClassifier()"
      ]
     },
     "execution_count": 107,
     "metadata": {},
     "output_type": "execute_result"
    }
   ],
   "source": [
    "clf = DecisionTreeClassifier()\n",
    "clf.fit(x_train,y_train)"
   ]
  },
  {
   "cell_type": "code",
   "execution_count": 108,
   "id": "4b93d533",
   "metadata": {},
   "outputs": [],
   "source": [
    "# evaluar el modelo con el conjunto de datos de prueba"
   ]
  },
  {
   "cell_type": "code",
   "execution_count": 109,
   "id": "0a67c827",
   "metadata": {},
   "outputs": [
    {
     "name": "stdout",
     "output_type": "stream",
     "text": [
      "Accuracy: 86.48%\n"
     ]
    }
   ],
   "source": [
    "score = clf.score(x_test,y_test)\n",
    "print(\"Accuracy: %.2f%%\" %(score * 100.0))"
   ]
  },
  {
   "cell_type": "code",
   "execution_count": null,
   "id": "05759d51",
   "metadata": {},
   "outputs": [],
   "source": [
    "# Se presenta un 86.48  % de presencia de  covid "
   ]
  },
  {
   "cell_type": "code",
   "execution_count": null,
   "id": "bfc753e9",
   "metadata": {},
   "outputs": [],
   "source": []
  },
  {
   "cell_type": "code",
   "execution_count": 190,
   "id": "a3e67d75",
   "metadata": {},
   "outputs": [],
   "source": [
    "# ejercicio  3 Naive Bayes"
   ]
  },
  {
   "cell_type": "code",
   "execution_count": 191,
   "id": "df33fd7c",
   "metadata": {},
   "outputs": [],
   "source": [
    "# probabilidades condicionales de los sintomas dado Covid-19"
   ]
  },
  {
   "cell_type": "code",
   "execution_count": 192,
   "id": "64ffed16",
   "metadata": {},
   "outputs": [],
   "source": [
    "p_fatiga_given_covid = 0.80\n",
    "p_tos_seca_given_covid = 0.60\n",
    "p_dificultad_respirar_given_covid = 0.70\n",
    "p_dolor_garganta_given_covid = 0.50\n",
    "p_dolor_cabeza_given_covid = 0.90\n",
    "p_dolor_cuerpo_given_covid = 0.40\n",
    "p_escalofrios_given_covid = 0.30\n",
    "p_secrecion_nasal_given_covid = 0.80\n",
    "p_perdida_sentido_given_covid = 0.60\n",
    "p_fiebre_given_covid = 0.90\n",
    "p_dolor_pecho_given_covid = 0.50\n"
   ]
  },
  {
   "cell_type": "code",
   "execution_count": 208,
   "id": "99269b2c",
   "metadata": {},
   "outputs": [],
   "source": [
    "# se define la prevalencia de covid-19 en la comunidad"
   ]
  },
  {
   "cell_type": "code",
   "execution_count": 209,
   "id": "2be89107",
   "metadata": {},
   "outputs": [],
   "source": [
    "p_covid = 0.10"
   ]
  },
  {
   "cell_type": "code",
   "execution_count": 210,
   "id": "aa3d030f",
   "metadata": {},
   "outputs": [],
   "source": [
    "# variables(sintomas)del covid-19"
   ]
  },
  {
   "cell_type": "code",
   "execution_count": 211,
   "id": "418c4455",
   "metadata": {},
   "outputs": [],
   "source": [
    "sintomas = ['Fatiga','Tos seca','Didicultad parta respirar','Dolor de cabeza','Dolor en el cuerpo','Escalofríos',\n",
    "'Secreción nasal','Pérdida del sentido del olfato o del gusto','Fiebre','Dolor de pecho']"
   ]
  },
  {
   "cell_type": "code",
   "execution_count": 212,
   "id": "c0621ab1",
   "metadata": {},
   "outputs": [],
   "source": [
    "# probabilidad paciente con covid-19"
   ]
  },
  {
   "cell_type": "code",
   "execution_count": 213,
   "id": "3bbe1486",
   "metadata": {},
   "outputs": [],
   "source": [
    "p_sintomas_given_covid = p_fatiga_given_covid * p_tos_seca_given_covid * p_dificultad_respirar_given_covid * \\\n",
    "                         p_dolor_garganta_given_covid * p_dolor_cabeza_given_covid * p_dolor_cuerpo_given_covid * \\\n",
    "                       p_escalofrios_given_covid * p_secrecion_nasal_given_covid * p_perdida_sentido_given_covid * \\\n",
    "                    p_fiebre_given_covid * p_dolor_pecho_given_covid \n"
   ]
  },
  {
   "cell_type": "code",
   "execution_count": 214,
   "id": "5767015b",
   "metadata": {},
   "outputs": [],
   "source": [
    "# probabilidad sintomas sin covid-19 (baja)"
   ]
  },
  {
   "cell_type": "code",
   "execution_count": 215,
   "id": "2716285f",
   "metadata": {},
   "outputs": [],
   "source": [
    "p_sintomas_given_no_covid = 0.10 ** 11 "
   ]
  },
  {
   "cell_type": "code",
   "execution_count": 347,
   "id": "ffdb933d",
   "metadata": {},
   "outputs": [],
   "source": [
    "p_sintomas = p_sintomas_given_covid * p_covid + p_sintomas_given_no_covid * (1 - p_covid)"
   ]
  },
  {
   "cell_type": "code",
   "execution_count": 349,
   "id": "2f76e9b9",
   "metadata": {},
   "outputs": [],
   "source": [
    "p_covid_given_sintomas = p_sintomas_given_covid * p_covid/p_sintomas"
   ]
  },
  {
   "cell_type": "code",
   "execution_count": 351,
   "id": "dca5224f",
   "metadata": {},
   "outputs": [
    {
     "name": "stdout",
     "output_type": "stream",
     "text": [
      "probabilidad de paciente con covid-19 es 0.9999999770355678\n"
     ]
    }
   ],
   "source": [
    "print(f\"probabilidad de paciente con covid-19 es {p_covid_given_sintomas}\")"
   ]
  },
  {
   "cell_type": "code",
   "execution_count": null,
   "id": "38a65149",
   "metadata": {},
   "outputs": [],
   "source": []
  }
 ],
 "metadata": {
  "kernelspec": {
   "display_name": "Python 3 (ipykernel)",
   "language": "python",
   "name": "python3"
  },
  "language_info": {
   "codemirror_mode": {
    "name": "ipython",
    "version": 3
   },
   "file_extension": ".py",
   "mimetype": "text/x-python",
   "name": "python",
   "nbconvert_exporter": "python",
   "pygments_lexer": "ipython3",
   "version": "3.9.13"
  }
 },
 "nbformat": 4,
 "nbformat_minor": 5
}
